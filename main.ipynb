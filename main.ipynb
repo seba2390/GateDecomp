{
 "cells": [
  {
   "cell_type": "code",
   "execution_count": 1,
   "id": "initial_id",
   "metadata": {
    "collapsed": true,
    "ExecuteTime": {
     "end_time": "2023-11-22T20:56:22.226744Z",
     "start_time": "2023-11-22T20:56:22.099412Z"
    }
   },
   "outputs": [],
   "source": [
    "from src.Gates import QuantumGate, PauliGate, PauliExpression"
   ]
  },
  {
   "cell_type": "code",
   "execution_count": 2,
   "outputs": [
    {
     "data": {
      "text/plain": "array([[0.+0.j, 0.+0.j, 0.+0.j, 0.-1.j],\n       [0.+0.j, 0.+0.j, 0.+1.j, 0.+0.j],\n       [0.+0.j, 0.-1.j, 0.+0.j, 0.+0.j],\n       [0.+1.j, 0.+0.j, 0.+0.j, 0.+0.j]])"
     },
     "execution_count": 2,
     "metadata": {},
     "output_type": "execute_result"
    }
   ],
   "source": [
    "gate_name = 'xy'\n",
    "obj = PauliGate(name=gate_name)\n",
    "obj.matrix()"
   ],
   "metadata": {
    "collapsed": false,
    "ExecuteTime": {
     "end_time": "2023-11-22T20:56:22.239551Z",
     "start_time": "2023-11-22T20:56:22.228071Z"
    }
   },
   "id": "2ebfd8b8eccf6dc0"
  },
  {
   "cell_type": "code",
   "execution_count": 3,
   "outputs": [
    {
     "ename": "ValueError",
     "evalue": "Expression should only contain terms of equal length.",
     "output_type": "error",
     "traceback": [
      "\u001B[0;31m---------------------------------------------------------------------------\u001B[0m",
      "\u001B[0;31mValueError\u001B[0m                                Traceback (most recent call last)",
      "Cell \u001B[0;32mIn [3], line 2\u001B[0m\n\u001B[1;32m      1\u001B[0m exs \u001B[38;5;241m=\u001B[39m \u001B[38;5;124m'\u001B[39m\u001B[38;5;124mzz+zz+yy+zy+xy+xxx\u001B[39m\u001B[38;5;124m'\u001B[39m\n\u001B[0;32m----> 2\u001B[0m obj \u001B[38;5;241m=\u001B[39m \u001B[43mPauliExpression\u001B[49m\u001B[43m(\u001B[49m\u001B[43mexpression\u001B[49m\u001B[38;5;241;43m=\u001B[39;49m\u001B[43mexs\u001B[49m\u001B[43m)\u001B[49m\n\u001B[1;32m      3\u001B[0m obj\u001B[38;5;241m.\u001B[39mmatrix()\n",
      "File \u001B[0;32m~/Library/CloudStorage/OneDrive-AarhusUniversitet/Div. Github projekter/Privat/GateDecomp/src/Gates.py:96\u001B[0m, in \u001B[0;36mPauliExpression.__init__\u001B[0;34m(self, expression)\u001B[0m\n\u001B[1;32m     94\u001B[0m \u001B[38;5;28mself\u001B[39m\u001B[38;5;241m.\u001B[39m_terms_ \u001B[38;5;241m=\u001B[39m []\n\u001B[1;32m     95\u001B[0m \u001B[38;5;28mself\u001B[39m\u001B[38;5;241m.\u001B[39m_operations_ \u001B[38;5;241m=\u001B[39m []\n\u001B[0;32m---> 96\u001B[0m \u001B[38;5;28mself\u001B[39m\u001B[38;5;241m.\u001B[39m_matrix_representation_ \u001B[38;5;241m=\u001B[39m \u001B[38;5;28;43mself\u001B[39;49m\u001B[38;5;241;43m.\u001B[39;49m\u001B[43m_set_matrix_\u001B[49m\u001B[43m(\u001B[49m\u001B[43m)\u001B[49m\n",
      "File \u001B[0;32m~/Library/CloudStorage/OneDrive-AarhusUniversitet/Div. Github projekter/Privat/GateDecomp/src/Gates.py:112\u001B[0m, in \u001B[0;36mPauliExpression._set_matrix_\u001B[0;34m(self)\u001B[0m\n\u001B[1;32m    110\u001B[0m \u001B[38;5;28;01mfor\u001B[39;00m term \u001B[38;5;129;01min\u001B[39;00m \u001B[38;5;28mself\u001B[39m\u001B[38;5;241m.\u001B[39m_terms_:\n\u001B[1;32m    111\u001B[0m     \u001B[38;5;28;01mif\u001B[39;00m \u001B[38;5;28mlen\u001B[39m(term) \u001B[38;5;241m!=\u001B[39m term_size:\n\u001B[0;32m--> 112\u001B[0m         \u001B[38;5;28;01mraise\u001B[39;00m \u001B[38;5;167;01mValueError\u001B[39;00m(\u001B[38;5;124mf\u001B[39m\u001B[38;5;124m'\u001B[39m\u001B[38;5;124mExpression should only contain terms of equal length.\u001B[39m\u001B[38;5;124m'\u001B[39m)\n\u001B[1;32m    114\u001B[0m current_term_matrix \u001B[38;5;241m=\u001B[39m PauliGate(name\u001B[38;5;241m=\u001B[39m\u001B[38;5;28mself\u001B[39m\u001B[38;5;241m.\u001B[39m_terms_[\u001B[38;5;241m0\u001B[39m])\u001B[38;5;241m.\u001B[39mmatrix(as_dense\u001B[38;5;241m=\u001B[39m\u001B[38;5;28;01mFalse\u001B[39;00m)\n\u001B[1;32m    115\u001B[0m \u001B[38;5;28;01mfor\u001B[39;00m remaining \u001B[38;5;129;01min\u001B[39;00m \u001B[38;5;28mrange\u001B[39m(\u001B[38;5;28mlen\u001B[39m(\u001B[38;5;28mself\u001B[39m\u001B[38;5;241m.\u001B[39m_terms_[\u001B[38;5;241m1\u001B[39m:])):\n",
      "\u001B[0;31mValueError\u001B[0m: Expression should only contain terms of equal length."
     ]
    }
   ],
   "source": [
    "exs = 'zz+zz+yy+zy+xy+xxx'\n",
    "obj = PauliExpression(expression=exs)\n",
    "obj.matrix()"
   ],
   "metadata": {
    "collapsed": false,
    "ExecuteTime": {
     "end_time": "2023-11-22T20:56:22.590612Z",
     "start_time": "2023-11-22T20:56:22.241650Z"
    }
   },
   "id": "21d419f150d40d7a"
  },
  {
   "cell_type": "code",
   "execution_count": null,
   "outputs": [],
   "source": [],
   "metadata": {
    "collapsed": false,
    "ExecuteTime": {
     "start_time": "2023-11-22T20:56:22.591754Z"
    }
   },
   "id": "3c8d596eac22b3f0"
  }
 ],
 "metadata": {
  "kernelspec": {
   "display_name": "Python 3",
   "language": "python",
   "name": "python3"
  },
  "language_info": {
   "codemirror_mode": {
    "name": "ipython",
    "version": 2
   },
   "file_extension": ".py",
   "mimetype": "text/x-python",
   "name": "python",
   "nbconvert_exporter": "python",
   "pygments_lexer": "ipython2",
   "version": "2.7.6"
  }
 },
 "nbformat": 4,
 "nbformat_minor": 5
}
