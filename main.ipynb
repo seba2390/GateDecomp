{
 "cells": [
  {
   "cell_type": "code",
   "execution_count": 100,
   "id": "initial_id",
   "metadata": {
    "collapsed": true,
    "ExecuteTime": {
     "end_time": "2023-11-22T18:34:02.534032Z",
     "start_time": "2023-11-22T18:34:02.530701Z"
    }
   },
   "outputs": [],
   "source": [
    "import numpy as np\n",
    "import scipy as sc\n",
    "\n",
    "from scipy.sparse import csr_matrix, csc_matrix, coo_matrix\n",
    "from scipy.sparse import kron as tensor_product"
   ]
  },
  {
   "cell_type": "code",
   "execution_count": 118,
   "outputs": [],
   "source": [
    "class QuantumGate:\n",
    "    def __init__(self, name: str, scaling: float = 1.0):\n",
    "        self.name = name\n",
    "        self.size = len(name)\n",
    "        self.__scaling__ = scaling\n",
    "        self.__matrix_representation__ = self._set_matrix_()\n",
    "    \n",
    "    def _set_matrix_(self):\n",
    "        pass\n",
    "    \n",
    "    def size(self):\n",
    "        return self.size\n",
    "\n",
    "    def name(self):\n",
    "        return self.name\n",
    "    \n",
    "    def matrix(self):\n",
    "        return self.__scaling__ * self.__matrix_representation__\n",
    "    \n",
    "    def time_evolution(self, time: float=1.0) -> np.ndarray:\n",
    "        return sc.linalg.expm(A=self.matrix())\n",
    "    \n",
    "        \n",
    "class PauliGate(QuantumGate):\n",
    "    def __init__(self, name: str, scaling: float = 1.0):\n",
    "        self._X_ = coo_matrix(np.array([[0,1],[1,0]]   , dtype=np.complex64))\n",
    "        self._Y_ = coo_matrix(np.array([[0,-1j],[1j,0]], dtype=np.complex64))\n",
    "        self._Z_ = coo_matrix(np.array([[1,0],[0,-1]]  , dtype=np.complex64))\n",
    "        self._I_ = coo_matrix(np.array([[1,0],[0,1]]   , dtype=np.complex64))\n",
    "        self.__allowed_gates__ = {'x': self._X_, 'X': self._X_,\n",
    "                                  'y': self._Y_, 'Y': self._Y_,\n",
    "                                  'z': self._Z_, 'Z': self._Z_,\n",
    "                                  'i': self._I_, 'I': self._I_}\n",
    "        if len(name) == 1:\n",
    "            if name not in list(self.__allowed_gates__.keys()):\n",
    "                raise ValueError(f'Unknown gate name provided, '\n",
    "                                 f'should be one: {list(self.__allowed_gates__.keys())}')\n",
    "        elif len(name) > 1:\n",
    "            for symbol in name:\n",
    "                if symbol not in list(self.__allowed_gates__.keys()):\n",
    "                    raise ValueError(f'Unknown gate name provided, '\n",
    "                                     f'should be one: {list(self.__allowed_gates__.keys())}')\n",
    "            \n",
    "        super().__init__(name=name, scaling=scaling)\n",
    "        \n",
    "    def _set_matrix_(self):\n",
    "        if len(self.name) == 1:\n",
    "            return self.__allowed_gates__[self.name]\n",
    "        elif len(self.name) > 1:\n",
    "            resulting_tensor_product = self.__allowed_gates__[self.name[0]]\n",
    "            for remaining_symbol in range(1,len(self.name)):\n",
    "                resulting_tensor_product = tensor_product(resulting_tensor_product, self.__allowed_gates__[self.name[remaining_symbol]], format=resulting_tensor_product.format)\n",
    "            return resulting_tensor_product\n",
    "\n",
    "        \n",
    "        \n",
    "    \n",
    "        "
   ],
   "metadata": {
    "collapsed": false,
    "ExecuteTime": {
     "end_time": "2023-11-22T18:36:51.372335Z",
     "start_time": "2023-11-22T18:36:51.368882Z"
    }
   },
   "id": "64125eddb86840f6"
  },
  {
   "cell_type": "code",
   "execution_count": 119,
   "outputs": [],
   "source": [
    "gate_name = 'xxxxxxxxxxxxxxxxxxxx'\n",
    "\n",
    "obj = PauliGate(name=gate_name)"
   ],
   "metadata": {
    "collapsed": false,
    "ExecuteTime": {
     "end_time": "2023-11-22T18:36:51.575358Z",
     "start_time": "2023-11-22T18:36:51.543026Z"
    }
   },
   "id": "2ebfd8b8eccf6dc0"
  },
  {
   "cell_type": "code",
   "execution_count": 120,
   "outputs": [],
   "source": [
    "mat = obj.matrix()\n",
    "for i in range(1000):\n",
    "    mat += mat"
   ],
   "metadata": {
    "collapsed": false,
    "ExecuteTime": {
     "end_time": "2023-11-22T18:36:57.922925Z",
     "start_time": "2023-11-22T18:36:52.711830Z"
    }
   },
   "id": "3aaad30194f8cfe4"
  },
  {
   "cell_type": "code",
   "execution_count": null,
   "outputs": [],
   "source": [],
   "metadata": {
    "collapsed": false,
    "ExecuteTime": {
     "start_time": "2023-11-22T18:34:03.220570Z"
    }
   },
   "id": "441a5c290393c5d9"
  }
 ],
 "metadata": {
  "kernelspec": {
   "display_name": "Python 3",
   "language": "python",
   "name": "python3"
  },
  "language_info": {
   "codemirror_mode": {
    "name": "ipython",
    "version": 2
   },
   "file_extension": ".py",
   "mimetype": "text/x-python",
   "name": "python",
   "nbconvert_exporter": "python",
   "pygments_lexer": "ipython2",
   "version": "2.7.6"
  }
 },
 "nbformat": 4,
 "nbformat_minor": 5
}
