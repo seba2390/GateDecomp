{
 "cells": [
  {
   "cell_type": "code",
   "execution_count": 1,
   "id": "initial_id",
   "metadata": {
    "collapsed": true,
    "ExecuteTime": {
     "end_time": "2023-11-22T16:10:33.955986200Z",
     "start_time": "2023-11-22T16:10:33.277752800Z"
    }
   },
   "outputs": [],
   "source": [
    "import numpy as np\n",
    "import scipy as sc"
   ]
  },
  {
   "cell_type": "code",
   "execution_count": 2,
   "outputs": [],
   "source": [
    "class QuantumGate:\n",
    "    def __init__(self, name: str, scaling: float = 1.0):\n",
    "        self.name = name\n",
    "        self.__scaling__ = scaling\n",
    "        self.__matrix_representation__ = self._set_matrix_()\n",
    "    \n",
    "    def _set_matrix_(self):\n",
    "        pass\n",
    "    \n",
    "    def matrix(self):\n",
    "        return self.__scaling__ * self.__matrix_representation__\n",
    "    \n",
    "    def time_evolution(self, time: float=1.0) -> np.ndarray:\n",
    "        return sc.linalg.expm(A=self.matrix())\n",
    "    \n",
    "        \n",
    "class PauliGate(QuantumGate):\n",
    "    def __init__(self, name: str, scaling: float = 1.0):\n",
    "        self._X_ = np.array([[0,1],[1,0]]   , dtype=np.complex128)\n",
    "        self._Y_ = np.array([[0,-1j],[1j,0]], dtype=np.complex128)\n",
    "        self._Z_ = np.array([[1,0],[0,-1]]  , dtype=np.complex128)\n",
    "        self._I_ = np.array([[1,0],[0,1]]   , dtype=np.complex128)\n",
    "        self.__allowed_gates__ = {'x': self._X_, 'X': self._X_,\n",
    "                                  'y': self._Y_, 'Y': self._Y_,\n",
    "                                  'z': self._Z_, 'Z': self._Z_,\n",
    "                                  'i': self._I_, 'I': self._I_}\n",
    "        if len(name) == 1:\n",
    "            if name not in list(self.__allowed_gates__.keys()):\n",
    "                raise ValueError(f'Unknown gate name provided, '\n",
    "                                 f'should be one: {list(self.__allowed_gates__.keys())}')\n",
    "        elif len(name) > 1:\n",
    "            for symbol in name:\n",
    "                if symbol not in list(self.__allowed_gates__.keys()):\n",
    "                    raise ValueError(f'Unknown gate name provided, '\n",
    "                                     f'should be one: {list(self.__allowed_gates__.keys())}')\n",
    "            \n",
    "        super().__init__(name=name, scaling=scaling)\n",
    "        \n",
    "    def _set_matrix_(self):\n",
    "        if len(self.name) == 1:\n",
    "            return self.__allowed_gates__[self.name]\n",
    "        elif len(self.name) > 1:\n",
    "            resulting_tensor_product = self.__allowed_gates__[self.name[0]]\n",
    "            for remaining_symbol in range(1,len(self.name)):\n",
    "                print(remaining_symbol)\n",
    "                print(self.__allowed_gates__[self.name[remaining_symbol]])\n",
    "                resulting_tensor_product = np.kron(resulting_tensor_product, self.__allowed_gates__[self.name[remaining_symbol]])\n",
    "                print(resulting_tensor_product)\n",
    "            return resulting_tensor_product\n",
    "\n",
    "        \n",
    "        \n",
    "    \n",
    "        "
   ],
   "metadata": {
    "collapsed": false,
    "ExecuteTime": {
     "end_time": "2023-11-22T16:10:34.007514400Z",
     "start_time": "2023-11-22T16:10:33.970513200Z"
    }
   },
   "id": "64125eddb86840f6"
  },
  {
   "cell_type": "code",
   "execution_count": 3,
   "outputs": [
    {
     "data": {
      "text/plain": "'x'"
     },
     "execution_count": 3,
     "metadata": {},
     "output_type": "execute_result"
    }
   ],
   "source": [
    "name = 'xy'\n",
    "name[0]"
   ],
   "metadata": {
    "collapsed": false,
    "ExecuteTime": {
     "end_time": "2023-11-22T16:10:34.008514500Z",
     "start_time": "2023-11-22T16:10:33.991513800Z"
    }
   },
   "id": "416994e3a8ba50d9"
  },
  {
   "cell_type": "code",
   "execution_count": 4,
   "outputs": [
    {
     "name": "stdout",
     "output_type": "stream",
     "text": [
      "1\n",
      "[[0.+0.j 1.+0.j]\n",
      " [1.+0.j 0.+0.j]]\n",
      "[[0.+0.j 0.+0.j 0.+0.j 1.+0.j]\n",
      " [0.+0.j 0.+0.j 1.+0.j 0.+0.j]\n",
      " [0.+0.j 1.+0.j 0.+0.j 0.+0.j]\n",
      " [1.+0.j 0.+0.j 0.+0.j 0.+0.j]]\n"
     ]
    }
   ],
   "source": [
    "gate_name = 'xx'\n",
    "\n",
    "obj = PauliGate(name=gate_name)"
   ],
   "metadata": {
    "collapsed": false,
    "ExecuteTime": {
     "end_time": "2023-11-22T16:10:34.032517100Z",
     "start_time": "2023-11-22T16:10:34.007514400Z"
    }
   },
   "id": "2ebfd8b8eccf6dc0"
  },
  {
   "cell_type": "code",
   "execution_count": 5,
   "outputs": [],
   "source": [
    "b = obj.matrix()"
   ],
   "metadata": {
    "collapsed": false,
    "ExecuteTime": {
     "end_time": "2023-11-22T16:10:34.111051400Z",
     "start_time": "2023-11-22T16:10:34.026515200Z"
    }
   },
   "id": "6e60fbee8008e810"
  },
  {
   "cell_type": "code",
   "execution_count": 8,
   "outputs": [
    {
     "data": {
      "text/plain": "array([[0.+0.j, 0.+0.j, 0.+0.j, 1.+0.j],\n       [0.+0.j, 0.+0.j, 1.+0.j, 0.+0.j],\n       [0.+0.j, 1.+0.j, 0.+0.j, 0.+0.j],\n       [1.+0.j, 0.+0.j, 0.+0.j, 0.+0.j]])"
     },
     "execution_count": 8,
     "metadata": {},
     "output_type": "execute_result"
    }
   ],
   "source": [
    "b"
   ],
   "metadata": {
    "collapsed": false,
    "ExecuteTime": {
     "end_time": "2023-11-22T16:10:40.099108900Z",
     "start_time": "2023-11-22T16:10:40.055585100Z"
    }
   },
   "id": "a18dede7ccaa0c7a"
  },
  {
   "cell_type": "code",
   "execution_count": 6,
   "outputs": [],
   "source": [
    "x = np.array([[0,1],[1,0]])\n",
    "res = np.kron(x,x)    "
   ],
   "metadata": {
    "collapsed": false,
    "ExecuteTime": {
     "end_time": "2023-11-22T16:10:34.135049400Z",
     "start_time": "2023-11-22T16:10:34.040516400Z"
    }
   },
   "id": "73e5e64edf87eccb"
  },
  {
   "cell_type": "code",
   "execution_count": 7,
   "outputs": [
    {
     "data": {
      "text/plain": "array([[0, 0, 0, 1],\n       [0, 0, 1, 0],\n       [0, 1, 0, 0],\n       [1, 0, 0, 0]])"
     },
     "execution_count": 7,
     "metadata": {},
     "output_type": "execute_result"
    }
   ],
   "source": [
    "res"
   ],
   "metadata": {
    "collapsed": false,
    "ExecuteTime": {
     "end_time": "2023-11-22T16:10:34.138052200Z",
     "start_time": "2023-11-22T16:10:34.057528400Z"
    }
   },
   "id": "f398a8969aa3c1f7"
  },
  {
   "cell_type": "code",
   "execution_count": 7,
   "outputs": [],
   "source": [],
   "metadata": {
    "collapsed": false,
    "ExecuteTime": {
     "end_time": "2023-11-22T16:10:34.138052200Z",
     "start_time": "2023-11-22T16:10:34.070051600Z"
    }
   },
   "id": "3aaad30194f8cfe4"
  }
 ],
 "metadata": {
  "kernelspec": {
   "display_name": "Python 3",
   "language": "python",
   "name": "python3"
  },
  "language_info": {
   "codemirror_mode": {
    "name": "ipython",
    "version": 2
   },
   "file_extension": ".py",
   "mimetype": "text/x-python",
   "name": "python",
   "nbconvert_exporter": "python",
   "pygments_lexer": "ipython2",
   "version": "2.7.6"
  }
 },
 "nbformat": 4,
 "nbformat_minor": 5
}
