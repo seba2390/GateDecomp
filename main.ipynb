{
 "cells": [
  {
   "cell_type": "code",
   "execution_count": 153,
   "id": "initial_id",
   "metadata": {
    "collapsed": true,
    "ExecuteTime": {
     "end_time": "2023-11-22T20:05:08.184439Z",
     "start_time": "2023-11-22T20:05:08.168950Z"
    }
   },
   "outputs": [],
   "source": [
    "import numpy as np\n",
    "from scipy.sparse import csc_matrix, coo_matrix\n",
    "from scipy.sparse import kron as tensor_product\n",
    "from scipy.sparse.linalg import expm as matrix_exponential"
   ]
  },
  {
   "cell_type": "code",
   "execution_count": 154,
   "outputs": [],
   "source": [
    "class QuantumGate:\n",
    "    def __init__(self, name: str, scaling: float = 1.0):\n",
    "        self.name = name\n",
    "        self.size = len(name)\n",
    "        self.__scaling__ = scaling\n",
    "        self.__matrix_representation__ = self._set_matrix_()\n",
    "    \n",
    "    def _set_matrix_(self):\n",
    "        pass\n",
    "    \n",
    "    def get_size(self):\n",
    "        return self.size\n",
    "\n",
    "    def get_name(self):\n",
    "        return self.name\n",
    "    \n",
    "    def matrix(self, as_dense: bool = True):\n",
    "        if as_dense:\n",
    "            return np.array(self.__scaling__ * self.__matrix_representation__.todense()) \n",
    "        return self.__scaling__ * self.__matrix_representation__\n",
    "    \n",
    "    def time_evolution(self, time: float=1.0, as_dense: bool = True):\n",
    "        if as_dense:\n",
    "            return matrix_exponential(A=-1j*time*self.matrix())\n",
    "        else:\n",
    "            return csc_matrix(matrix_exponential(A=-1j*time*self.matrix()))\n",
    "    \n",
    "        \n",
    "class PauliGate(QuantumGate):\n",
    "    _X_ = coo_matrix(np.array([[0,1],[1,0]]   , dtype=np.complex64))\n",
    "    _Y_ = coo_matrix(np.array([[0,-1j],[1j,0]], dtype=np.complex64))\n",
    "    _Z_ = coo_matrix(np.array([[1,0],[0,-1]]  , dtype=np.complex64))\n",
    "    _I_ = coo_matrix(np.array([[1,0],[0,1]]   , dtype=np.complex64))\n",
    "    _allowed_gates_ = {'x': _X_, 'X': _X_,\n",
    "                       'y': _Y_, 'Y': _Y_,\n",
    "                       'z': _Z_, 'Z': _Z_,\n",
    "                       'i': _I_, 'I': _I_}\n",
    "    def __init__(self, name: str, scaling: float = 1.0):\n",
    "        \n",
    "        if len(name) == 1:\n",
    "            if name not in list(self._allowed_gates_.keys()):\n",
    "                raise ValueError(f'Unknown gate name provided, '\n",
    "                                 f'should be one: {list(self._allowed_gates_.keys())}')\n",
    "        elif len(name) > 1:\n",
    "            for symbol in name:\n",
    "                if symbol not in list(self._allowed_gates_.keys()):\n",
    "                    raise ValueError(f'Unknown gate name provided, '\n",
    "                                     f'should be one: {list(self._allowed_gates_.keys())}')\n",
    "        else:\n",
    "            raise ValueError(f'name does not have positive length.')\n",
    "        super().__init__(name=name, scaling=scaling)\n",
    "        \n",
    "    def _set_matrix_(self):\n",
    "        if len(self.name) == 1:\n",
    "            return self._allowed_gates_[self.name]\n",
    "        else:\n",
    "            resulting_tensor_product = self._allowed_gates_[self.name[0]]\n",
    "            for remaining_symbol in range(1,len(self.name)):\n",
    "                resulting_tensor_product = tensor_product(resulting_tensor_product, self._allowed_gates_[self.name[remaining_symbol]], format=resulting_tensor_product.format)\n",
    "            return resulting_tensor_product.asformat('csc')\n",
    "\n",
    "class OperatorExpression:\n",
    "    _arithmetic_operators_ = ['+','-']\n",
    "    "
   ],
   "metadata": {
    "collapsed": false,
    "ExecuteTime": {
     "end_time": "2023-11-22T20:05:08.186640Z",
     "start_time": "2023-11-22T20:05:08.169143Z"
    }
   },
   "id": "64125eddb86840f6"
  },
  {
   "cell_type": "code",
   "execution_count": 161,
   "outputs": [],
   "source": [
    "gate_name = 'xyz'\n",
    "\n",
    "obj = PauliGate(name=gate_name)"
   ],
   "metadata": {
    "collapsed": false,
    "ExecuteTime": {
     "end_time": "2023-11-22T20:07:41.920018Z",
     "start_time": "2023-11-22T20:07:41.914330Z"
    }
   },
   "id": "2ebfd8b8eccf6dc0"
  },
  {
   "cell_type": "code",
   "execution_count": 163,
   "outputs": [
    {
     "data": {
      "text/plain": "array([[0.+0.j, 0.+0.j, 0.+0.j, 0.+0.j, 0.+0.j, 0.+0.j, 0.-1.j, 0.+0.j],\n       [0.+0.j, 0.+0.j, 0.+0.j, 0.+0.j, 0.+0.j, 0.+0.j, 0.+0.j, 0.+1.j],\n       [0.+0.j, 0.+0.j, 0.+0.j, 0.+0.j, 0.+1.j, 0.+0.j, 0.+0.j, 0.+0.j],\n       [0.+0.j, 0.+0.j, 0.+0.j, 0.+0.j, 0.+0.j, 0.-1.j, 0.+0.j, 0.+0.j],\n       [0.+0.j, 0.+0.j, 0.-1.j, 0.+0.j, 0.+0.j, 0.+0.j, 0.+0.j, 0.+0.j],\n       [0.+0.j, 0.+0.j, 0.+0.j, 0.+1.j, 0.+0.j, 0.+0.j, 0.+0.j, 0.+0.j],\n       [0.+1.j, 0.+0.j, 0.+0.j, 0.+0.j, 0.+0.j, 0.+0.j, 0.+0.j, 0.+0.j],\n       [0.+0.j, 0.-1.j, 0.+0.j, 0.+0.j, 0.+0.j, 0.+0.j, 0.+0.j, 0.+0.j]])"
     },
     "execution_count": 163,
     "metadata": {},
     "output_type": "execute_result"
    }
   ],
   "source": [
    "obj.matrix()"
   ],
   "metadata": {
    "collapsed": false,
    "ExecuteTime": {
     "end_time": "2023-11-22T20:07:46.553894Z",
     "start_time": "2023-11-22T20:07:46.546968Z"
    }
   },
   "id": "441a5c290393c5d9"
  },
  {
   "cell_type": "code",
   "execution_count": 156,
   "outputs": [],
   "source": [
    "A = obj.time_evolution(as_dense=True)"
   ],
   "metadata": {
    "collapsed": false,
    "ExecuteTime": {
     "end_time": "2023-11-22T20:05:08.207099Z",
     "start_time": "2023-11-22T20:05:08.175825Z"
    }
   },
   "id": "63fe16dfd113f8eb"
  },
  {
   "cell_type": "code",
   "execution_count": 156,
   "outputs": [],
   "source": [],
   "metadata": {
    "collapsed": false,
    "ExecuteTime": {
     "end_time": "2023-11-22T20:05:08.214097Z",
     "start_time": "2023-11-22T20:05:08.207954Z"
    }
   },
   "id": "3c8d596eac22b3f0"
  }
 ],
 "metadata": {
  "kernelspec": {
   "display_name": "Python 3",
   "language": "python",
   "name": "python3"
  },
  "language_info": {
   "codemirror_mode": {
    "name": "ipython",
    "version": 2
   },
   "file_extension": ".py",
   "mimetype": "text/x-python",
   "name": "python",
   "nbconvert_exporter": "python",
   "pygments_lexer": "ipython2",
   "version": "2.7.6"
  }
 },
 "nbformat": 4,
 "nbformat_minor": 5
}
