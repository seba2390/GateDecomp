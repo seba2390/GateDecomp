{
 "cells": [
  {
   "cell_type": "code",
   "execution_count": 1,
   "id": "initial_id",
   "metadata": {
    "collapsed": true,
    "ExecuteTime": {
     "end_time": "2023-11-22T20:59:23.099181Z",
     "start_time": "2023-11-22T20:59:22.968319Z"
    }
   },
   "outputs": [],
   "source": [
    "from src.Gates import QuantumGate, PauliGate, PauliExpression"
   ]
  },
  {
   "cell_type": "code",
   "execution_count": 2,
   "outputs": [
    {
     "data": {
      "text/plain": "array([[0.+0.j, 0.+0.j, 0.+0.j, 0.-1.j],\n       [0.+0.j, 0.+0.j, 0.+1.j, 0.+0.j],\n       [0.+0.j, 0.-1.j, 0.+0.j, 0.+0.j],\n       [0.+1.j, 0.+0.j, 0.+0.j, 0.+0.j]])"
     },
     "execution_count": 2,
     "metadata": {},
     "output_type": "execute_result"
    }
   ],
   "source": [
    "gate_name = 'xy'\n",
    "obj = PauliGate(name=gate_name)\n",
    "obj.matrix()"
   ],
   "metadata": {
    "collapsed": false,
    "ExecuteTime": {
     "end_time": "2023-11-22T20:59:23.112284Z",
     "start_time": "2023-11-22T20:59:23.107482Z"
    }
   },
   "id": "2ebfd8b8eccf6dc0"
  },
  {
   "cell_type": "code",
   "execution_count": 7,
   "outputs": [
    {
     "data": {
      "text/plain": "array([[ 2.+0.j,  0.-1.j,  0.+0.j,  0.-1.j],\n       [ 0.+1.j, -2.+0.j,  2.+1.j,  0.+0.j],\n       [ 0.+0.j,  2.-1.j, -2.+0.j,  0.+1.j],\n       [ 0.+1.j,  0.+0.j,  0.-1.j,  2.+0.j]], dtype=complex64)"
     },
     "execution_count": 7,
     "metadata": {},
     "output_type": "execute_result"
    }
   ],
   "source": [
    "exs = 'zz+zz+yy+zy+xy+xx'\n",
    "obj = PauliExpression(expression=exs)\n",
    "obj.matrix()"
   ],
   "metadata": {
    "collapsed": false,
    "ExecuteTime": {
     "end_time": "2023-11-22T20:59:39.902724Z",
     "start_time": "2023-11-22T20:59:39.899833Z"
    }
   },
   "id": "21d419f150d40d7a"
  },
  {
   "cell_type": "code",
   "execution_count": null,
   "outputs": [],
   "source": [],
   "metadata": {
    "collapsed": false,
    "ExecuteTime": {
     "end_time": "2023-11-22T20:59:23.459178Z",
     "start_time": "2023-11-22T20:59:23.457662Z"
    }
   },
   "id": "3c8d596eac22b3f0"
  }
 ],
 "metadata": {
  "kernelspec": {
   "display_name": "Python 3",
   "language": "python",
   "name": "python3"
  },
  "language_info": {
   "codemirror_mode": {
    "name": "ipython",
    "version": 2
   },
   "file_extension": ".py",
   "mimetype": "text/x-python",
   "name": "python",
   "nbconvert_exporter": "python",
   "pygments_lexer": "ipython2",
   "version": "2.7.6"
  }
 },
 "nbformat": 4,
 "nbformat_minor": 5
}
