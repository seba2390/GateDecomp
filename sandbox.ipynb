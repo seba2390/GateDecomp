{
 "cells": [
  {
   "cell_type": "code",
   "execution_count": 1,
   "id": "initial_id",
   "metadata": {
    "collapsed": true,
    "ExecuteTime": {
     "end_time": "2024-01-18T13:54:19.041445100Z",
     "start_time": "2024-01-18T13:54:18.848549900Z"
    }
   },
   "outputs": [],
   "source": [
    "import numpy as np\n",
    "from src.Gates import PauliExpression\n",
    "from src.States import State"
   ]
  },
  {
   "cell_type": "code",
   "outputs": [],
   "source": [
    "_00_, _01_, _10_, _11_ = State('00'), State('01'), State('10'), State('11')"
   ],
   "metadata": {
    "collapsed": false,
    "ExecuteTime": {
     "end_time": "2024-01-18T13:55:13.154960800Z",
     "start_time": "2024-01-18T13:55:13.135082100Z"
    }
   },
   "id": "79ee7fc392d094c1",
   "execution_count": 2
  },
  {
   "cell_type": "code",
   "outputs": [],
   "source": [
    "H = -2*PauliExpression(expression='II-IZ-ZI+ZZ').matrix()/2\n",
    "H"
   ],
   "metadata": {
    "collapsed": false,
    "ExecuteTime": {
     "end_time": "2024-01-18T13:58:26.077643700Z",
     "start_time": "2024-01-18T13:58:26.067390600Z"
    }
   },
   "id": "8c0cc0a180a44a95",
   "execution_count": 11
  },
  {
   "cell_type": "code",
   "outputs": [],
   "source": [],
   "metadata": {
    "collapsed": false
   },
   "id": "3b8446c8eed2552b"
  }
 ],
 "metadata": {
  "kernelspec": {
   "display_name": "Python 3",
   "language": "python",
   "name": "python3"
  },
  "language_info": {
   "codemirror_mode": {
    "name": "ipython",
    "version": 2
   },
   "file_extension": ".py",
   "mimetype": "text/x-python",
   "name": "python",
   "nbconvert_exporter": "python",
   "pygments_lexer": "ipython2",
   "version": "2.7.6"
  }
 },
 "nbformat": 4,
 "nbformat_minor": 5
}
