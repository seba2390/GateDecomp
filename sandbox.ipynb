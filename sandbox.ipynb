{
 "cells": [
  {
   "cell_type": "code",
   "execution_count": 1,
   "id": "initial_id",
   "metadata": {
    "collapsed": true,
    "ExecuteTime": {
     "end_time": "2024-01-18T16:14:37.840795200Z",
     "start_time": "2024-01-18T16:14:37.672414500Z"
    }
   },
   "outputs": [],
   "source": [
    "import numpy as np\n",
    "from src.Gates import PauliExpression\n",
    "from src.States import State\n",
    "from scipy.linalg import expm"
   ]
  },
  {
   "cell_type": "code",
   "outputs": [],
   "source": [
    "YY, XX = PauliExpression(expression='YY').matrix(), PauliExpression(expression='XX').matrix()\n",
    "\n",
    "theta = 11.25187776\n",
    "ryy = expm(-1j*theta/2*YY)\n",
    "rxx = expm(-1j*theta/2*XX)\n",
    "U_yy_xx = expm(-1j*theta/2*(XX+YY))\n",
    "r_yy_xx = rxx@ryy"
   ],
   "metadata": {
    "collapsed": false,
    "ExecuteTime": {
     "end_time": "2024-01-18T16:14:37.861267Z",
     "start_time": "2024-01-18T16:14:37.845150500Z"
    }
   },
   "id": "8c0cc0a180a44a95",
   "execution_count": 2
  },
  {
   "cell_type": "code",
   "outputs": [
    {
     "name": "stdout",
     "output_type": "stream",
     "text": [
      "[[1.        +0.j         0.        +0.j         0.        +0.j\n",
      "  0.        +0.j        ]\n",
      " [0.        +0.j         0.25350663+0.j         0.        +0.96733344j\n",
      "  0.        +0.j        ]\n",
      " [0.        +0.j         0.        +0.96733344j 0.25350663+0.j\n",
      "  0.        +0.j        ]\n",
      " [0.        +0.j         0.        +0.j         0.        +0.j\n",
      "  1.        +0.j        ]]\n"
     ]
    }
   ],
   "source": [
    "print(U_yy_xx)"
   ],
   "metadata": {
    "collapsed": false,
    "ExecuteTime": {
     "end_time": "2024-01-18T16:14:37.880639100Z",
     "start_time": "2024-01-18T16:14:37.865531200Z"
    }
   },
   "id": "ff1293aa9bcd402f",
   "execution_count": 3
  },
  {
   "cell_type": "code",
   "outputs": [
    {
     "data": {
      "text/plain": "True"
     },
     "execution_count": 14,
     "metadata": {},
     "output_type": "execute_result"
    }
   ],
   "source": [
    "np.allclose(r_yy_xx,U_yy_xx)"
   ],
   "metadata": {
    "collapsed": false,
    "ExecuteTime": {
     "end_time": "2024-01-18T16:14:24.684621600Z",
     "start_time": "2024-01-18T16:14:24.665468700Z"
    }
   },
   "id": "8a6ee61e29405e17",
   "execution_count": 14
  },
  {
   "cell_type": "code",
   "outputs": [],
   "source": [],
   "metadata": {
    "collapsed": false
   },
   "id": "9c8d0e4571a747eb"
  }
 ],
 "metadata": {
  "kernelspec": {
   "display_name": "Python 3",
   "language": "python",
   "name": "python3"
  },
  "language_info": {
   "codemirror_mode": {
    "name": "ipython",
    "version": 2
   },
   "file_extension": ".py",
   "mimetype": "text/x-python",
   "name": "python",
   "nbconvert_exporter": "python",
   "pygments_lexer": "ipython2",
   "version": "2.7.6"
  }
 },
 "nbformat": 4,
 "nbformat_minor": 5
}
