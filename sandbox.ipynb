{
 "cells": [
  {
   "cell_type": "code",
   "execution_count": 1,
   "id": "initial_id",
   "metadata": {
    "collapsed": true,
    "ExecuteTime": {
     "end_time": "2024-01-18T16:15:28.236769300Z",
     "start_time": "2024-01-18T16:15:28.066352400Z"
    }
   },
   "outputs": [],
   "source": [
    "import numpy as np\n",
    "from src.Gates import PauliExpression\n",
    "from src.States import State\n",
    "from scipy.linalg import expm"
   ]
  },
  {
   "cell_type": "code",
   "outputs": [],
   "source": [
    "O_1 = PauliExpression(expression='III-ZII-ZII+III').matrix()\n",
    "O_2 = PauliExpression(expression='III-ZII-IZI+ZZI').matrix()\n",
    "O_3 = PauliExpression(expression='III-ZII-IIZ+ZIZ').matrix()\n",
    "\n",
    "O_4 = PauliExpression(expression='III-IZI-ZII+ZZI').matrix()\n",
    "O_5 = PauliExpression(expression='III-IZI-IZI+III').matrix()\n",
    "O_6 = PauliExpression(expression='III-IZI-IIZ+IZZ').matrix()\n",
    "\n",
    "O_7 = PauliExpression(expression='III-IIZ-ZII+ZIZ').matrix()\n",
    "O_8 = PauliExpression(expression='III-IIZ-IZI+IZZ').matrix()\n",
    "O_9 = PauliExpression(expression='III-IIZ-IIZ+III').matrix()\n",
    "\n",
    "O = O_1 + O_2 + O_3 + O_4 + O_5 + O_6 + O_7 + O_8 + O_9\n",
    "\n",
    "H_1 = PauliExpression(expression='XXI+YYI').matrix()\n",
    "H_2 = PauliExpression(expression='IXX+IYY').matrix()\n",
    "\n",
    "H = H_1 + H_2"
   ],
   "metadata": {
    "collapsed": false,
    "ExecuteTime": {
     "end_time": "2024-01-18T16:50:43.252391500Z",
     "start_time": "2024-01-18T16:50:43.229479200Z"
    }
   },
   "id": "8c0cc0a180a44a95",
   "execution_count": 17
  },
  {
   "cell_type": "code",
   "outputs": [
    {
     "data": {
      "text/plain": "array([[0.+0.j, 0.+0.j, 0.+0.j, 0.+0.j, 0.+0.j, 0.+0.j, 0.+0.j, 0.+0.j],\n       [0.+0.j, 0.+0.j, 0.+0.j, 0.+0.j, 0.+0.j, 0.+0.j, 0.+0.j, 0.+0.j],\n       [0.+0.j, 0.+0.j, 0.+0.j, 0.+0.j, 0.+0.j, 0.+0.j, 0.+0.j, 0.+0.j],\n       [0.+0.j, 0.+0.j, 0.+0.j, 0.+0.j, 0.+0.j, 0.+0.j, 0.+0.j, 0.+0.j],\n       [0.+0.j, 0.+0.j, 0.+0.j, 0.+0.j, 0.+0.j, 0.+0.j, 0.+0.j, 0.+0.j],\n       [0.+0.j, 0.+0.j, 0.+0.j, 0.+0.j, 0.+0.j, 0.+0.j, 0.+0.j, 0.+0.j],\n       [0.+0.j, 0.+0.j, 0.+0.j, 0.+0.j, 0.+0.j, 0.+0.j, 0.+0.j, 0.+0.j],\n       [0.+0.j, 0.+0.j, 0.+0.j, 0.+0.j, 0.+0.j, 0.+0.j, 0.+0.j, 0.+0.j]],\n      dtype=complex64)"
     },
     "execution_count": 18,
     "metadata": {},
     "output_type": "execute_result"
    }
   ],
   "source": [
    "H@O-O@H"
   ],
   "metadata": {
    "collapsed": false,
    "ExecuteTime": {
     "end_time": "2024-01-18T16:50:54.981114400Z",
     "start_time": "2024-01-18T16:50:54.962005200Z"
    }
   },
   "id": "3a3d7950c0a59a2e",
   "execution_count": 18
  },
  {
   "cell_type": "code",
   "outputs": [],
   "source": [],
   "metadata": {
    "collapsed": false
   },
   "id": "9e6e2c0f93e8f90"
  }
 ],
 "metadata": {
  "kernelspec": {
   "display_name": "Python 3",
   "language": "python",
   "name": "python3"
  },
  "language_info": {
   "codemirror_mode": {
    "name": "ipython",
    "version": 2
   },
   "file_extension": ".py",
   "mimetype": "text/x-python",
   "name": "python",
   "nbconvert_exporter": "python",
   "pygments_lexer": "ipython2",
   "version": "2.7.6"
  }
 },
 "nbformat": 4,
 "nbformat_minor": 5
}
