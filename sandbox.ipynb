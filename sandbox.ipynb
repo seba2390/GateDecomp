{
 "cells": [
  {
   "cell_type": "code",
   "execution_count": 1,
   "id": "initial_id",
   "metadata": {
    "collapsed": true,
    "ExecuteTime": {
     "end_time": "2024-01-18T14:25:36.540518800Z",
     "start_time": "2024-01-18T14:25:36.399774200Z"
    }
   },
   "outputs": [],
   "source": [
    "import numpy as np\n",
    "from src.Gates import PauliExpression\n",
    "from src.States import State"
   ]
  },
  {
   "cell_type": "code",
   "outputs": [],
   "source": [
    "_00_, _01_, _10_, _11_ = State('00'), State('01'), State('10'), State('11')"
   ],
   "metadata": {
    "collapsed": false,
    "ExecuteTime": {
     "end_time": "2024-01-18T14:25:36.557080200Z",
     "start_time": "2024-01-18T14:25:36.542578900Z"
    }
   },
   "id": "79ee7fc392d094c1",
   "execution_count": 2
  },
  {
   "cell_type": "code",
   "outputs": [
    {
     "name": "stdout",
     "output_type": "stream",
     "text": [
      "-0.0\n",
      "-0.0\n",
      "-0.0\n",
      "-4.0\n"
     ]
    }
   ],
   "source": [
    "H = PauliExpression(expression='II-IZ-ZI+ZZ')\n",
    "print(-H.expectation(state_vector=_00_.get_state_vector()))\n",
    "print(-H.expectation(state_vector=_01_.get_state_vector()))\n",
    "print(-H.expectation(state_vector=_10_.get_state_vector()))\n",
    "print(-H.expectation(state_vector=_11_.get_state_vector()))"
   ],
   "metadata": {
    "collapsed": false,
    "ExecuteTime": {
     "end_time": "2024-01-18T14:25:36.582713100Z",
     "start_time": "2024-01-18T14:25:36.559269300Z"
    }
   },
   "id": "8c0cc0a180a44a95",
   "execution_count": 3
  },
  {
   "cell_type": "code",
   "outputs": [],
   "source": [],
   "metadata": {
    "collapsed": false,
    "ExecuteTime": {
     "end_time": "2024-01-18T14:25:36.590221300Z",
     "start_time": "2024-01-18T14:25:36.573154500Z"
    }
   },
   "id": "3b8446c8eed2552b",
   "execution_count": 3
  }
 ],
 "metadata": {
  "kernelspec": {
   "display_name": "Python 3",
   "language": "python",
   "name": "python3"
  },
  "language_info": {
   "codemirror_mode": {
    "name": "ipython",
    "version": 2
   },
   "file_extension": ".py",
   "mimetype": "text/x-python",
   "name": "python",
   "nbconvert_exporter": "python",
   "pygments_lexer": "ipython2",
   "version": "2.7.6"
  }
 },
 "nbformat": 4,
 "nbformat_minor": 5
}
