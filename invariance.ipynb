{
 "cells": [
  {
   "cell_type": "code",
   "execution_count": 6,
   "id": "initial_id",
   "metadata": {
    "collapsed": true,
    "ExecuteTime": {
     "end_time": "2023-11-27T23:21:27.718461Z",
     "start_time": "2023-11-27T23:21:27.714226Z"
    }
   },
   "outputs": [],
   "source": [
    "import numpy as np\n",
    "from src.Gates import PauliExpression\n",
    "from src.States import State"
   ]
  },
  {
   "cell_type": "code",
   "execution_count": 7,
   "outputs": [],
   "source": [
    "_0_ = [State('000')]\n",
    "_1_ = [State('001'),State('010'),State('100')]\n",
    "_2_ = [State('011'),State('101'),State('110')]\n",
    "_3_ = [State('111')]"
   ],
   "metadata": {
    "collapsed": false,
    "ExecuteTime": {
     "end_time": "2023-11-27T23:21:27.723389Z",
     "start_time": "2023-11-27T23:21:27.719690Z"
    }
   },
   "id": "65e1aa76d9a536ab"
  },
  {
   "cell_type": "code",
   "execution_count": 8,
   "outputs": [],
   "source": [
    "expression = 'III-ZII+III-IZI+III-IIZ'\n",
    "obj = PauliExpression(expression=expression)\n",
    "total_excitations = 1/2*obj.matrix()\n"
   ],
   "metadata": {
    "collapsed": false,
    "ExecuteTime": {
     "end_time": "2023-11-27T23:21:27.731925Z",
     "start_time": "2023-11-27T23:21:27.725837Z"
    }
   },
   "id": "d22640dccf6712c6"
  },
  {
   "cell_type": "code",
   "execution_count": 9,
   "outputs": [
    {
     "name": "stdout",
     "output_type": "stream",
     "text": [
      "0.0\n",
      "==========\n",
      "1.0\n",
      "1.0\n",
      "1.0\n",
      "==========\n",
      "2.0\n",
      "2.0\n",
      "2.0\n",
      "==========\n",
      "3.0\n"
     ]
    }
   ],
   "source": [
    "for state in _0_:\n",
    "    print(np.real_if_close(state.get_expectation(operator=total_excitations)))\n",
    "print(\"=\"*10)\n",
    "for state in _1_:\n",
    "    print(np.real_if_close(state.get_expectation(operator=total_excitations)))\n",
    "print(\"=\"*10)\n",
    "for state in _2_:\n",
    "    print(np.real_if_close(state.get_expectation(operator=total_excitations)))\n",
    "print(\"=\"*10)\n",
    "for state in _3_:\n",
    "    print(np.real_if_close(state.get_expectation(operator=total_excitations)))\n"
   ],
   "metadata": {
    "collapsed": false,
    "ExecuteTime": {
     "end_time": "2023-11-27T23:21:27.737074Z",
     "start_time": "2023-11-27T23:21:27.729490Z"
    }
   },
   "id": "a2a92efb91bd5364"
  },
  {
   "cell_type": "code",
   "execution_count": 10,
   "outputs": [
    {
     "name": "stdout",
     "output_type": "stream",
     "text": [
      "0.0\n",
      "==========\n",
      "0.99999994\n",
      "1.0000001\n",
      "1.0000001\n",
      "==========\n",
      "1.9999999\n",
      "2.0000002\n",
      "2.0000002\n",
      "==========\n",
      "3.0\n"
     ]
    }
   ],
   "source": [
    "expression = 'XXI+YYI+IXX+IYY+XIX+YIY'\n",
    "obj = PauliExpression(expression=expression)\n",
    "MIXER = obj.time_evolution()\n",
    "for state in _0_:\n",
    "    state.act_with(operator=MIXER)\n",
    "    print(np.real_if_close(state.get_expectation(operator=total_excitations)))\n",
    "print(\"=\"*10)\n",
    "for state in _1_:\n",
    "    state.act_with(operator=MIXER)\n",
    "    print(np.real_if_close(state.get_expectation(operator=total_excitations)))\n",
    "print(\"=\"*10)\n",
    "for state in _2_:\n",
    "    state.act_with(operator=MIXER)\n",
    "    print(np.real_if_close(state.get_expectation(operator=total_excitations)))\n",
    "print(\"=\"*10)\n",
    "for state in _3_:\n",
    "    state.act_with(operator=MIXER)\n",
    "    print(np.real_if_close(state.get_expectation(operator=total_excitations)))\n"
   ],
   "metadata": {
    "collapsed": false,
    "ExecuteTime": {
     "end_time": "2023-11-27T23:21:27.814325Z",
     "start_time": "2023-11-27T23:21:27.762795Z"
    }
   },
   "id": "c8bcbda45b06b446"
  },
  {
   "cell_type": "code",
   "execution_count": 10,
   "outputs": [],
   "source": [],
   "metadata": {
    "collapsed": false,
    "ExecuteTime": {
     "end_time": "2023-11-27T23:21:27.815481Z",
     "start_time": "2023-11-27T23:21:27.793238Z"
    }
   },
   "id": "301bd460a81e368e"
  }
 ],
 "metadata": {
  "kernelspec": {
   "display_name": "Python 3",
   "language": "python",
   "name": "python3"
  },
  "language_info": {
   "codemirror_mode": {
    "name": "ipython",
    "version": 2
   },
   "file_extension": ".py",
   "mimetype": "text/x-python",
   "name": "python",
   "nbconvert_exporter": "python",
   "pygments_lexer": "ipython2",
   "version": "2.7.6"
  }
 },
 "nbformat": 4,
 "nbformat_minor": 5
}
